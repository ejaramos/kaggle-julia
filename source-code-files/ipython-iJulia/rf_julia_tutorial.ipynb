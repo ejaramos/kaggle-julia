{
 "cells": [
  {
   "cell_type": "markdown",
   "metadata": {},
   "source": [
    "# Loading Data"
   ]
  },
  {
   "cell_type": "code",
   "execution_count": 4,
   "metadata": {
    "collapsed": false
   },
   "outputs": [
    {
     "name": "stderr",
     "output_type": "stream",
     "text": [
      "INFO: Nothing to be done\n",
      "INFO: Nothing to be done\n"
     ]
    },
    {
     "ename": "LoadError",
     "evalue": "LoadError: SystemError: opening file /Users/ejaramos/Dropbox/_Kaggle WIP/Ramos/source-code-files/ipython-iJulia//trainLabels.csv: No such file or directory\nwhile loading In[4], in expression starting on line 44",
     "output_type": "error",
     "traceback": [
      "LoadError: SystemError: opening file /Users/ejaramos/Dropbox/_Kaggle WIP/Ramos/source-code-files/ipython-iJulia//trainLabels.csv: No such file or directory\nwhile loading In[4], in expression starting on line 44",
      "",
      " in open at /Applications/Julia-0.4.3.app/Contents/Resources/julia/lib/julia/sys.dylib (repeats 2 times)",
      " in readtable at /Users/ejaramos/.julia/v0.4/DataFrames/src/dataframe/io.jl:889"
     ]
    }
   ],
   "source": [
    "Pkg.add(\"Images\")\n",
    "Pkg.add(\"DataFrames\")\n",
    "using Images\n",
    "using DataFrames\n",
    "\n",
    "\n",
    "#typeData could be either \"train\" or \"test.\n",
    "#labelsInfo should contain the IDs of each image to be read\n",
    "#The images in the trainResized and testResized data files\n",
    "#are 20x20 pixels, so imageSize is set to 400.\n",
    "#path should be set to the location of the data files.\n",
    "\n",
    "function read_data(typeData, labelsInfo, imageSize, path)\n",
    " #Intialize x matrix\n",
    " x = zeros(size(labelsInfo, 1), imageSize)\n",
    "\n",
    " for (index, idImage) in enumerate(labelsInfo[\"ID\"]) \n",
    "  #Read image file \n",
    "  nameFile = \"$(path)/$(typeData)Resized/$(idImage).Bmp\"\n",
    "  img = imread(nameFile)\n",
    "\n",
    "  #Convert img to float values \n",
    "        temp = float32sc(img)\n",
    "\n",
    "  #Convert color images to gray images\n",
    "  #by taking the average of the color scales. \n",
    "  if ndims(temp) == 3\n",
    "   temp = mean(temp.data, 1)\n",
    "  end\n",
    "    \n",
    "  #Transform image matrix to a vector and store \n",
    "  #it in data matrix \n",
    "  x[index, :] = reshape(temp, 1, imageSize)\n",
    " end \n",
    " return x\n",
    "end\n",
    "\n",
    "imageSize = 400 # 20 x 20 pixels\n",
    "\n",
    "#Set location of data files , folders\n",
    "path = \"/Users/ejaramos/Dropbox/_Kaggle WIP/Ramos/source-code-files/ipython-iJulia/\"\n",
    "\n",
    "#Read information about training data , IDs.\n",
    "labelsInfoTrain = readtable(\"$(path)/trainLabels.csv\")\n",
    "\n",
    "#Read training matrix\n",
    "xTrain = read_data(\"train\", labelsInfoTrain, imageSize, path)\n",
    "\n",
    "#Read information about test data ( IDs ).\n",
    "labelsInfoTest = readtable(\"$(path)/sampleSubmission.csv\")\n",
    "\n",
    "#Read test matrix\n",
    "xTest = read_data(\"test\", labelsInfoTest, imageSize, path)\n",
    "\n",
    "#Get only first character of string (convert from string to character).\n",
    "#Apply the function to each element of the column \"Class\"\n",
    "yTrain = map(x -> x[1], labelsInfoTrain[\"Class\"])\n",
    "\n",
    "#Convert from character to integer\n",
    "yTrain = int(yTrain)"
   ]
  },
  {
   "cell_type": "markdown",
   "metadata": {},
   "source": [
    "# Training Random Forest"
   ]
  },
  {
   "cell_type": "code",
   "execution_count": 5,
   "metadata": {
    "collapsed": false
   },
   "outputs": [
    {
     "name": "stderr",
     "output_type": "stream",
     "text": [
      "INFO: Cloning cache of DecisionTree from git://github.com/bensadeghi/DecisionTree.jl.git\n",
      "INFO: Installing DecisionTree v0.3.11\n",
      "INFO: Package database updated\n"
     ]
    },
    {
     "ename": "LoadError",
     "evalue": "LoadError: UndefVarError: yTrain not defined\nwhile loading In[5], in expression starting on line 8",
     "output_type": "error",
     "traceback": [
      "LoadError: UndefVarError: yTrain not defined\nwhile loading In[5], in expression starting on line 8",
      ""
     ]
    }
   ],
   "source": [
    "Pkg.add(\"DecisionTree\")\n",
    "using DecisionTree\n",
    "\n",
    "#Train random forest with\n",
    "#20 for number of features chosen at each random split,\n",
    "#50 for number of trees,\n",
    "#and 1.0 for ratio of subsampling.\n",
    "model = build_forest(yTrain, xTrain, 20, 50, 1.0)\n",
    "\n",
    "#Get predictions for test data\n",
    "predTest = apply_forest(model, xTest)\n",
    "\n",
    "#Convert integer predictions to character\n",
    "labelsInfoTest[\"Class\"] = char(predTest)\n",
    "\n",
    "#Save predictions\n",
    "writetable(\"$(path)/juliaSubmission.csv\", labelsInfoTest, separator=',', header=true)\n",
    "\n",
    "#Run 4 fold cross validation\n",
    "accuracy = nfoldCV_forest(yTrain, xTrain, 20, 50, 4, 1.0);\n",
    "println (\"4 fold accuracy: $(mean(accuracy))\")"
   ]
  }
 ],
 "metadata": {
  "kernelspec": {
   "display_name": "Julia 0.4.3",
   "language": "julia",
   "name": "julia-0.4"
  },
  "language_info": {
   "file_extension": ".jl",
   "mimetype": "application/julia",
   "name": "julia",
   "version": "0.4.3"
  }
 },
 "nbformat": 4,
 "nbformat_minor": 0
}
